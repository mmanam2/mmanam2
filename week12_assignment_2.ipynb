{
  "cells": [
    {
      "cell_type": "markdown",
      "metadata": {
        "id": "view-in-github",
        "colab_type": "text"
      },
      "source": [
        "<a href=\"https://colab.research.google.com/github/mmanam2/mmanam2/blob/main/week12_assignment_2.ipynb\" target=\"_parent\"><img src=\"https://colab.research.google.com/assets/colab-badge.svg\" alt=\"Open In Colab\"/></a>"
      ]
    },
    {
      "cell_type": "markdown",
      "metadata": {
        "id": "FkgzEbX1woGg"
      },
      "source": [
        "# Week 11 Assignment\n",
        "\n",
        "\n",
        "Please do the programming exercise and verify that your code works using the tests, then think about your final project and fill out the questions in the second part.\n",
        "\n",
        "---\n",
        "---"
      ]
    },
    {
      "cell_type": "markdown",
      "metadata": {
        "id": "t0Y3UZjWwoGi"
      },
      "source": [
        "### 47.1: Filtering and summarizing data\n",
        "\n",
        "For this work, you'll find a data file in `https://hds5210-data.s3.amazonaws.com/complications_all.csv`.\n",
        "\n",
        "Read in the data file and create a variable called `mo_hospitals` that contains a data frame from the `complications_all.csv` file, filtered down to only contain those hospitals from the state of Missouri (MO).\n",
        "\n",
        "Then aggregate that data by hospital into a variable named `mo_summary`.  There are some key fields that we want to summarize:\n",
        "* We want to know the earliest date that each hospital was participating in any program\n",
        "* We want to know the latest date that each hospital stopped participating in any program\n",
        "* We want to know the total number of patients in the denominators of these programs\n",
        "\n",
        "Some things to note:\n",
        "* You will need to convert the `Start Date` and `End Date` to actual datetime fields\n",
        "* You will need to clean up and convert the `Denominator` field to just be numeric - the rule that you should use it to simply remove any records where the `Denominator` is `'Not Available'`\n",
        "\n",
        "\n",
        "The final result of this step should be a new data frame called `mo_summary` that contains one row for each hospital and contains the min start date, max end date, and total denominator.  Use the names `start_date`, `end_date`, and `number` for those columns in `mo_summary`.\n",
        "\n",
        "\n",
        "You do not need to create your code in the form of a function, just make sure your variable names match what I've described above so the tests work."
      ]
    },
    {
      "cell_type": "code",
      "execution_count": 1,
      "metadata": {
        "id": "ga4qFG2rwoGi"
      },
      "outputs": [],
      "source": [
        "import pandas as pd\n",
        "# This is just to show you the name to use for the variable you need to create for this step to pass.\n",
        "all_hospitals = pd.read_csv('https://hds5210-data.s3.amazonaws.com/complications_all.csv')\n"
      ]
    },
    {
      "cell_type": "code",
      "execution_count": null,
      "metadata": {
        "id": "VHo5JNp-woGj"
      },
      "outputs": [],
      "source": [
        "# Do you work here and in as many cells as you need to create a variable called `mo_summary` that matches the requirements"
      ]
    },
    {
      "cell_type": "code",
      "source": [
        "mo_hospitals = all_hospitals[all_hospitals['State'] == 'MO']\n",
        "mo_hospitals['Start Date'] = pd.to_datetime(mo_hospitals['Start Date'])\n",
        "mo_hospitals['End Date'] = pd.to_datetime(mo_hospitals['End Date'])\n",
        "\n",
        "mo_hospitals = mo_hospitals[mo_hospitals['Denominator'] != 'Not Available']\n",
        "mo_hospitals['Denominator'] = pd.to_numeric(mo_hospitals['Denominator'])\n",
        "mo_summary = mo_hospitals.groupby('Facility Name').agg(\n",
        "    start_date=('Start Date', 'min'),\n",
        "    end_date=('End Date', 'max'),\n",
        "    number=('Denominator', 'sum')\n",
        ")\n",
        "\n",
        "mo_summary.reset_index(inplace=True)\n",
        "mo_summary.set_index('Facility Name', inplace=True)"
      ],
      "metadata": {
        "colab": {
          "base_uri": "https://localhost:8080/"
        },
        "id": "EQUyVTpXxNbN",
        "outputId": "24c26b72-2564-4c5b-a578-b075d1355717"
      },
      "execution_count": 2,
      "outputs": [
        {
          "output_type": "stream",
          "name": "stderr",
          "text": [
            "<ipython-input-2-9213b3074c04>:2: SettingWithCopyWarning: \n",
            "A value is trying to be set on a copy of a slice from a DataFrame.\n",
            "Try using .loc[row_indexer,col_indexer] = value instead\n",
            "\n",
            "See the caveats in the documentation: https://pandas.pydata.org/pandas-docs/stable/user_guide/indexing.html#returning-a-view-versus-a-copy\n",
            "  mo_hospitals['Start Date'] = pd.to_datetime(mo_hospitals['Start Date'])\n",
            "<ipython-input-2-9213b3074c04>:3: SettingWithCopyWarning: \n",
            "A value is trying to be set on a copy of a slice from a DataFrame.\n",
            "Try using .loc[row_indexer,col_indexer] = value instead\n",
            "\n",
            "See the caveats in the documentation: https://pandas.pydata.org/pandas-docs/stable/user_guide/indexing.html#returning-a-view-versus-a-copy\n",
            "  mo_hospitals['End Date'] = pd.to_datetime(mo_hospitals['End Date'])\n"
          ]
        }
      ]
    },
    {
      "cell_type": "code",
      "execution_count": 3,
      "metadata": {
        "id": "dmLYWHYMwoGj"
      },
      "outputs": [],
      "source": [
        "assert(mo_summary['number'].sum() == 1766908)\n",
        "assert(mo_summary['start_date'].min() == pd.Timestamp(2015,4,1))\n",
        "assert(mo_summary['end_date'].max() == pd.Timestamp(2018,6,30))\n",
        "assert(mo_summary.shape == (108,3))\n",
        "assert(mo_summary.loc['BARNES JEWISH HOSPITAL'].number == 131313)\n",
        "assert(mo_summary.loc['BOONE HOSPITAL CENTER'].number == 63099)"
      ]
    },
    {
      "cell_type": "markdown",
      "metadata": {
        "id": "L6IHdeUBwoGk"
      },
      "source": [
        "---\n",
        "\n",
        "### 47.2 Planning your final project\n",
        "\n",
        "You should be thinking about the things we've been learning and how you can apply them to your final project.  Use the rubric to help guid your thinking and then answer the questions below.  This is meant as a guide to help you think through what you will do."
      ]
    },
    {
      "cell_type": "markdown",
      "metadata": {
        "id": "rnhsM9iHwoGk"
      },
      "source": [
        "#### A) Data Access\n",
        "\n",
        "Your project should include data from at least three distinct types of sources.  For example: AWS S3, Relational Databases, Internet, Web Services, local files.  List what data sources you're planning to use."
      ]
    },
    {
      "cell_type": "markdown",
      "source": [
        "\n",
        "AWS S3 Data: Information stored in the cloud with formats such as CSV, JSON, or XML.\n",
        "Relational Database Data: Well-organized, structured data retrieved from relational databases, usually in SQL format.\n",
        "Web Services Data: Data sourced from internet-based services in real-time, often in formats like JSON and XML.\n",
        "\n",
        "For my dataset, I will be using risk factors for Cervical Cancer Risk Classification, which is provided as a CSV file. Here's the dataset URL: https://www.kaggle.com/datasets/loveall/cervical-cancer-risk-classification?resource=download"
      ],
      "metadata": {
        "id": "co9WZbEMUSdd"
      }
    },
    {
      "cell_type": "markdown",
      "metadata": {
        "id": "qi949nZfwoGk"
      },
      "source": [
        "#### B. Data Formats\n",
        "\n",
        "Your project should include data that comes in different file formats.  For example: HL7, EDI, HTML, CSV, Excel, JSON, XML.  List what data formats you're planning to use."
      ]
    },
    {
      "cell_type": "markdown",
      "metadata": {
        "id": "nY1bMycSwoGk"
      },
      "source": [
        "**Double-click to enter your answer**\n",
        "\n",
        "Put your answer here\n"
      ]
    },
    {
      "cell_type": "markdown",
      "source": [
        "I will use either XML or JSON or EXCEL file."
      ],
      "metadata": {
        "id": "IyCEOFB3Ubuf"
      }
    },
    {
      "cell_type": "markdown",
      "metadata": {
        "id": "atFYKr_FwoGk"
      },
      "source": [
        "#### C. Objective\n",
        "\n",
        "What purpose would your project serve in a real work setting?  Take a couple of paragraphs to write down why this is an interesting product."
      ]
    },
    {
      "cell_type": "markdown",
      "source": [],
      "metadata": {
        "id": "cP2pFr4iU9tm"
      }
    },
    {
      "cell_type": "markdown",
      "metadata": {
        "id": "otlOAsA7woGk"
      },
      "source": [
        "**Double-click to enter your answer**\n",
        "\n",
        "My project brings together data from the cloud, databases, and the internet to help businesses make better decisions. It handles different types of data, like spreadsheets and web-friendly formats, making it easier for people to access and understand the information.\n"
      ]
    },
    {
      "cell_type": "markdown",
      "metadata": {
        "id": "dfihkXdnwoGk"
      },
      "source": [
        "\n",
        "\n",
        "---\n",
        "\n",
        "\n",
        "\n",
        "## Submit your work via GitHub as normal\n"
      ]
    }
  ],
  "metadata": {
    "kernelspec": {
      "display_name": "Python 3",
      "language": "python",
      "name": "python3"
    },
    "language_info": {
      "codemirror_mode": {
        "name": "ipython",
        "version": 3
      },
      "file_extension": ".py",
      "mimetype": "text/x-python",
      "name": "python",
      "nbconvert_exporter": "python",
      "pygments_lexer": "ipython3",
      "version": "3.9.16"
    },
    "colab": {
      "provenance": [],
      "include_colab_link": true
    }
  },
  "nbformat": 4,
  "nbformat_minor": 0
}